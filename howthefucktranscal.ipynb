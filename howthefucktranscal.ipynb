{
 "cells": [
  {
   "cell_type": "code",
   "execution_count": null,
   "metadata": {},
   "outputs": [],
   "source": [
    "import numpy as np\n",
    "from scipy.integrate import simps, trapz\n",
    "\n",
    "# Constantes dadas\n",
    "q_max = 526.3157895\n",
    "q_base = 1052.631579\n",
    "\n",
    "# Definindo a função de transferência de calor q(t)\n",
    "def q(t, T):\n",
    "    return q_max * np.sin((2 * np.pi * t) / T) + q_base\n",
    "\n",
    "# Calcula a integral utilizando a regra do trapézio e 1/3 de Simpson\n",
    "def calcular_integral(T, n=10):\n",
    "    # Intervalo de tempo de 0 a T\n",
    "    t = np.linspace(0, T, n + 1)\n",
    "    y = q(t, T)\n",
    "    \n",
    "    # Calcula a integral usando a regra do trapézio e Simpson\n",
    "    integral_trapz = trapz(y, t)\n",
    "    integral_simps = simps(y, t)\n",
    "    \n",
    "    # Calcula o erro relativo entre as duas integrais\n",
    "    erro_relativo = np.abs((integral_trapz - integral_simps) / integral_simps)\n",
    "    \n",
    "    return integral_trapz, integral_simps, erro_relativo\n",
    "\n",
    "# Períodos dados\n",
    "periodos = [10, 60, 3600]\n",
    "\n",
    "# Calcular a integral para cada período\n",
    "resultados = {T: calcular_integral(T) for T in periodos}\n",
    "print(resultados)\n"
   ]
  }
 ],
 "metadata": {
  "language_info": {
   "name": "python"
  }
 },
 "nbformat": 4,
 "nbformat_minor": 2
}
